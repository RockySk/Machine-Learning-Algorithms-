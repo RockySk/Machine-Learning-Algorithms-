{
 "cells": [
  {
   "cell_type": "code",
   "execution_count": 1,
   "id": "ad41fcd0",
   "metadata": {},
   "outputs": [],
   "source": [
    "import numpy as np\n",
    "import matplotlib.pyplot as plt"
   ]
  },
  {
   "cell_type": "code",
   "execution_count": 2,
   "id": "0e09087a",
   "metadata": {},
   "outputs": [],
   "source": [
    "x=np.array([0,1,2,3,4,5,6,7,8,9])\n",
    "y=np.array([1,3,2,5,7,8,9,9,10,12])"
   ]
  },
  {
   "cell_type": "code",
   "execution_count": 3,
   "id": "09bce687",
   "metadata": {},
   "outputs": [],
   "source": [
    "def estimate_coef(x,y):\n",
    "#mean of x and y vectors\n",
    "    mean_x = np.mean(x)\n",
    "    mean_y = np.mean(y)\n",
    "#Calculating cross-deviation and deviation about x\n",
    "    x_dev = x - mean_x\n",
    "    y_dev = y - mean_y\n",
    "    x_dev2 = x_dev**2\n",
    "    m = (np.sum(x_dev*y_dev)/np.sum(x_dev2))\n",
    "    c = mean_y-(m*mean_x)\n",
    "    return m,c"
   ]
  },
  {
   "cell_type": "code",
   "execution_count": 4,
   "id": "417ff676",
   "metadata": {},
   "outputs": [
    {
     "name": "stdout",
     "output_type": "stream",
     "text": [
      "Estimated coefs:\n",
      "b_0 = 1.187878787878788\n",
      "b_1=1.254545454545454\n"
     ]
    }
   ],
   "source": [
    "b = estimate_coef(x,y)\n",
    "print(f\"Estimated coefs:\\nb_0 = {b[0]}\\nb_1={b[1]}\")"
   ]
  },
  {
   "cell_type": "code",
   "execution_count": 5,
   "id": "60df8896",
   "metadata": {},
   "outputs": [
    {
     "name": "stdout",
     "output_type": "stream",
     "text": [
      "Enter value of x: 5\n"
     ]
    }
   ],
   "source": [
    "x_var = float(input(\"Enter value of x: \"))\n",
    "y_var = (b[0]*x_var)+b[1]"
   ]
  },
  {
   "cell_type": "code",
   "execution_count": 6,
   "id": "1d5fbe19",
   "metadata": {},
   "outputs": [
    {
     "name": "stdout",
     "output_type": "stream",
     "text": [
      "Output Y is: 7.193939393939393\n"
     ]
    }
   ],
   "source": [
    "print(\"Output Y is:\",y_var)"
   ]
  },
  {
   "cell_type": "code",
   "execution_count": 10,
   "id": "c477040d",
   "metadata": {},
   "outputs": [
    {
     "data": {
      "image/png": "[encoded data removed]",
      "text/plain": [
       "<Figure size 432x288 with 1 Axes>"
      ]
     },
     "metadata": {
      "needs_background": "light"
     },
     "output_type": "display_data"
    }
   ],
   "source": [
    "plt.scatter(x,y,color=\"r\",marker=\"o\",s=30)\n",
    "#Predicted response vector\n",
    "y_pred = (b[1]*x)+b[0]\n",
    "#plotting the regression line\n",
    "plt.plot(x,y_pred,color=\"g\")\n",
    "plt.show()"
   ]
  },
  {
   "cell_type": "code",
   "execution_count": null,
   "id": "115b9c98",
   "metadata": {},
   "outputs": [],
   "source": []
  },
  {
   "cell_type": "code",
   "execution_count": null,
   "id": "a46bf79b",
   "metadata": {},
   "outputs": [],
   "source": []
  },
  {
   "cell_type": "code",
   "execution_count": null,
   "id": "ea7b8ee3",
   "metadata": {},
   "outputs": [],
   "source": []
  }
 ],
 "metadata": {
  "kernelspec": {
   "display_name": "Python 3 (ipykernel)",
   "language": "python",
   "name": "python3"
  },
  "language_info": {
   "codemirror_mode": {
    "name": "ipython",
    "version": 3
   },
   "file_extension": ".py",
   "mimetype": "text/x-python",
   "name": "python",
   "nbconvert_exporter": "python",
   "pygments_lexer": "ipython3",
   "version": "3.9.7"
  }
 },
 "nbformat": 4,
 "nbformat_minor": 5
}
