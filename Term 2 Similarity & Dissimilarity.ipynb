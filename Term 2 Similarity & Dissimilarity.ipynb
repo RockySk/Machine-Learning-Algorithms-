{
 "cells": [
  {
   "cell_type": "code",
   "execution_count": 2,
   "id": "e411073e",
   "metadata": {},
   "outputs": [
    {
     "name": "stdout",
     "output_type": "stream",
     "text": [
      "Eclidean distance: 2.8284271247461903\n"
     ]
    }
   ],
   "source": [
    "import numpy as np\n",
    "x=np.array([0,2])\n",
    "y=np.array([2,0])\n",
    "def one(x,y):\n",
    "    dist=np.sum(np.square(x-y))\n",
    "    a=np.sqrt(dist)\n",
    "    print(\"Eclidean distance:\",a)\n",
    "one(x,y)"
   ]
  },
  {
   "cell_type": "code",
   "execution_count": 5,
   "id": "48ddf6b0",
   "metadata": {},
   "outputs": [
    {
     "name": "stdout",
     "output_type": "stream",
     "text": [
      "Intersection:  [False False False False  True False False]\n",
      "Union:  [False  True  True  True  True  True False]\n",
      "Jaccard Similarity: 0.2\n"
     ]
    }
   ],
   "source": [
    "import numpy as np\n",
    "def jaccard_binary(x,y):\n",
    "    intersection=np.logical_and(x,y)\n",
    "    print(\"Intersection: \",intersection)\n",
    "    union=np.logical_or(x,y) \n",
    "    print(\"Union: \",union) \n",
    "    similarity=intersection.sum()/float(union.sum())\n",
    "    print(\"Jaccard Similarity:\",similarity)\n",
    "x=np.array([0,1,0,0,1,1,0])\n",
    "y=np.array([0,0,1,1,1,0,0])\n",
    "jaccard_binary(x,y)"
   ]
  },
  {
   "cell_type": "code",
   "execution_count": 10,
   "id": "99c61fe1",
   "metadata": {},
   "outputs": [
    {
     "name": "stdout",
     "output_type": "stream",
     "text": [
      "Cosine Similarity between x and y is  0.315\n"
     ]
    }
   ],
   "source": [
    "def square_rooted(x1):\n",
    "    return round(sqrt(sum([a*a for a in x1])),3)\n",
    "\n",
    "def cosine_similarity(x,y):\n",
    "    numerator = sum(a*b for a,b in zip(x,y))\n",
    "    denominator = square_rooted(x)*square_rooted(y)\n",
    "    return round(numerator/float(denominator),3)\n",
    "    \n",
    "x = cosine_similarity([3,2,0,5,0,0,0,2,0,0],[1,0,0,0,0,0,0,1,0,2])\n",
    "print(\"Cosine Similarity between x and y is \",x)"
   ]
  },
  {
   "cell_type": "code",
   "execution_count": null,
   "id": "4791fea9",
   "metadata": {},
   "outputs": [],
   "source": []
  }
 ],
 "metadata": {
  "kernelspec": {
   "display_name": "Python 3 (ipykernel)",
   "language": "python",
   "name": "python3"
  },
  "language_info": {
   "codemirror_mode": {
    "name": "ipython",
    "version": 3
   },
   "file_extension": ".py",
   "mimetype": "text/x-python",
   "name": "python",
   "nbconvert_exporter": "python",
   "pygments_lexer": "ipython3",
   "version": "3.9.7"
  }
 },
 "nbformat": 4,
 "nbformat_minor": 5
}
